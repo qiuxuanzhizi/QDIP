{
 "cells": [
  {
   "cell_type": "markdown",
   "metadata": {},
   "source": [
    "## Quaternion PyTorch - Basic mechanisms"
   ]
  },
  {
   "cell_type": "code",
   "execution_count": 1,
   "metadata": {},
   "outputs": [
    {
     "ename": "ModuleNotFoundError",
     "evalue": "No module named 'htorch'",
     "output_type": "error",
     "traceback": [
      "\u001b[1;31m---------------------------------------------------------------------------\u001b[0m",
      "\u001b[1;31mModuleNotFoundError\u001b[0m                       Traceback (most recent call last)",
      "\u001b[1;32mC:\\WINDOWS\\TEMP/ipykernel_50900/3363973015.py\u001b[0m in \u001b[0;36m<module>\u001b[1;34m\u001b[0m\n\u001b[0;32m      1\u001b[0m \u001b[1;32mimport\u001b[0m \u001b[0mtorch\u001b[0m\u001b[1;33m\u001b[0m\u001b[1;33m\u001b[0m\u001b[0m\n\u001b[1;32m----> 2\u001b[1;33m \u001b[1;32mfrom\u001b[0m \u001b[0mhtorch\u001b[0m \u001b[1;32mimport\u001b[0m \u001b[0mquaternion\u001b[0m\u001b[1;33m\u001b[0m\u001b[1;33m\u001b[0m\u001b[0m\n\u001b[0m",
      "\u001b[1;31mModuleNotFoundError\u001b[0m: No module named 'htorch'"
     ]
    }
   ],
   "source": [
    "import torch\n",
    "from htorch import quaternion"
   ]
  },
  {
   "cell_type": "markdown",
   "metadata": {},
   "source": [
    "### 1 - Quaternion tensors"
   ]
  },
  {
   "cell_type": "markdown",
   "metadata": {},
   "source": [
    "A quaternion number is represented by:\n",
    "\n",
    "$$\n",
    "x = a + bi + cj + dk\n",
    "$$\n",
    "\n",
    "where $a$, $b$, $c$, and $d$ are real values, and $i$, $j$, $k$ are the imaginary parts. A `QuaternionTensor` extends the standard PyTorch `tensor` to handle quaternion values, by specifying the real and imaginary components during initialization. \n",
    "\n",
    "The simplest way to initialize a `QuaternionTensor` is to pass all $(a, b, c, d)$ values as a single (..., 4)-dimensional tensor of real values:"
   ]
  },
  {
   "cell_type": "code",
   "execution_count": 2,
   "metadata": {},
   "outputs": [
    {
     "name": "stdout",
     "output_type": "stream",
     "text": [
      "real part: tensor([0.])\n",
      "imaginary part (i): tensor([0.3000])\n",
      "imaginary part (j): tensor([0.4000])\n",
      "imaginary part (k): tensor([0.5000])\n"
     ]
    }
   ],
   "source": [
    "# Simple scalar quaternion\n",
    "x = quaternion.QuaternionTensor([0.0, 0.3, 0.4, 0.5])\n",
    "print(x)"
   ]
  },
  {
   "cell_type": "markdown",
   "metadata": {},
   "source": [
    "For a general tensor of shape $(a, b, ...)$, a `QuaternionTensor` will have $(a, b, c, ..., 4)$ real values for its initialization:"
   ]
  },
  {
   "cell_type": "code",
   "execution_count": 10,
   "metadata": {},
   "outputs": [
    {
     "name": "stdout",
     "output_type": "stream",
     "text": [
      "real part: tensor([[0.6549],\n",
      "        [0.4490]])\n",
      "imaginary part (i): tensor([[0.3214],\n",
      "        [0.6709]])\n",
      "imaginary part (j): tensor([[0.5050],\n",
      "        [0.0625]])\n",
      "imaginary part (k): tensor([[0.4133],\n",
      "        [0.0206]])\n"
     ]
    }
   ],
   "source": [
    "# Mini-batch of two scalar quaternions\n",
    "x = quaternion.QuaternionTensor(torch.rand(2, 4))\n",
    "print(x)"
   ]
  },
  {
   "cell_type": "code",
   "execution_count": 12,
   "metadata": {},
   "outputs": [],
   "source": [
    "# A mini-batch of 4 vectors, each composed of 2 quaternions\n",
    "y = quaternion.QuaternionTensor(torch.rand(4, 4, 2))"
   ]
  },
  {
   "cell_type": "markdown",
   "metadata": {},
   "source": [
    "All standard quaternion operations can be applied on the tensor (see the documentation of `QuaternionTensor` for a full list):"
   ]
  },
  {
   "cell_type": "code",
   "execution_count": 13,
   "metadata": {},
   "outputs": [
    {
     "name": "stdout",
     "output_type": "stream",
     "text": [
      "tensor([[0.6549],\n",
      "        [0.4490]])\n"
     ]
    }
   ],
   "source": [
    "# Get the a/b/c/d components\n",
    "print(x.a)"
   ]
  },
  {
   "cell_type": "code",
   "execution_count": 17,
   "metadata": {},
   "outputs": [
    {
     "data": {
      "text/plain": [
       "torch.Size([2, 4])"
      ]
     },
     "execution_count": 17,
     "metadata": {},
     "output_type": "execute_result"
    }
   ],
   "source": [
    "# Shape (always ends with a 4)\n",
    "x.qshape"
   ]
  },
  {
   "cell_type": "code",
   "execution_count": 18,
   "metadata": {},
   "outputs": [
    {
     "name": "stdout",
     "output_type": "stream",
     "text": [
      "real part: tensor([[0.6549],\n",
      "        [0.4490]])\n",
      "imaginary part (i): tensor([[-0.3214],\n",
      "        [-0.6709]])\n",
      "imaginary part (j): tensor([[-0.5050],\n",
      "        [-0.0625]])\n",
      "imaginary part (k): tensor([[-0.4133],\n",
      "        [-0.0206]])\n"
     ]
    }
   ],
   "source": [
    "# Conjugation\n",
    "print(x.conj())"
   ]
  },
  {
   "cell_type": "code",
   "execution_count": 19,
   "metadata": {},
   "outputs": [
    {
     "name": "stdout",
     "output_type": "stream",
     "text": [
      "tensor([[0.9788],\n",
      "        [0.8100]])\n"
     ]
    }
   ],
   "source": [
    "# Element-wise norm\n",
    "print(x.norm())"
   ]
  },
  {
   "cell_type": "code",
   "execution_count": 20,
   "metadata": {},
   "outputs": [
    {
     "name": "stdout",
     "output_type": "stream",
     "text": [
      "tensor([[0.8378],\n",
      "        [0.9833]])\n"
     ]
    }
   ],
   "source": [
    "# Element-wise angle\n",
    "print(x.theta())"
   ]
  },
  {
   "cell_type": "code",
   "execution_count": 21,
   "metadata": {},
   "outputs": [
    {
     "name": "stdout",
     "output_type": "stream",
     "text": [
      "real part: tensor([[-0.1003],\n",
      "        [-0.2529]])\n",
      "imaginary part (i): tensor([[0.4210],\n",
      "        [0.6025]])\n",
      "imaginary part (j): tensor([[0.6615],\n",
      "        [0.0562]])\n",
      "imaginary part (k): tensor([[0.5413],\n",
      "        [0.0185]])\n"
     ]
    }
   ],
   "source": [
    "# Quaternion multiplication (element-wise Hamilton product)\n",
    "print(x * x)"
   ]
  },
  {
   "cell_type": "code",
   "execution_count": 22,
   "metadata": {},
   "outputs": [
    {
     "name": "stdout",
     "output_type": "stream",
     "text": [
      "tensor([[0.9580, 0.5498],\n",
      "        [0.5498, 0.6561]])\n"
     ]
    }
   ],
   "source": [
    "# Quaternion matrix multiplication\n",
    "print(x.t() @ x)"
   ]
  },
  {
   "cell_type": "markdown",
   "metadata": {},
   "source": [
    "Importantly, quaternion tensors and real-valued tensors are interoperable (real-valued tensors being casted to quaternion tensors with 0 imaginary parts):"
   ]
  },
  {
   "cell_type": "code",
   "execution_count": 30,
   "metadata": {},
   "outputs": [
    {
     "name": "stdout",
     "output_type": "stream",
     "text": [
      "real part: tensor([[0.3419],\n",
      "        [0.1778]])\n",
      "imaginary part (i): tensor([[0.1678],\n",
      "        [0.2658]])\n",
      "imaginary part (j): tensor([[0.2637],\n",
      "        [0.0248]])\n",
      "imaginary part (k): tensor([[0.2158],\n",
      "        [0.0082]])\n"
     ]
    }
   ],
   "source": [
    "# Quaternion scalar multiplication\n",
    "print(x * torch.rand(2))"
   ]
  },
  {
   "cell_type": "markdown",
   "metadata": {},
   "source": [
    "### 2 - Quaternion gradients"
   ]
  },
  {
   "cell_type": "markdown",
   "metadata": {},
   "source": [
    "Gradients can be computed with the PyTorch autograd mechanisms:"
   ]
  },
  {
   "cell_type": "code",
   "execution_count": 31,
   "metadata": {},
   "outputs": [],
   "source": [
    "x = quaternion.QuaternionTensor(torch.rand(2, 4))\n",
    "x.requires_grad = True\n",
    "y = x.norm().sum()\n",
    "y.backward()"
   ]
  },
  {
   "cell_type": "code",
   "execution_count": 32,
   "metadata": {},
   "outputs": [
    {
     "name": "stdout",
     "output_type": "stream",
     "text": [
      "tensor([[0.6003, 0.2822, 0.6857, 0.2998],\n",
      "        [0.2326, 0.5723, 0.5796, 0.5314]])\n"
     ]
    }
   ],
   "source": [
    "print(x.grad) # The gradient is also a (..., 4)-dimensional tensor"
   ]
  },
  {
   "cell_type": "markdown",
   "metadata": {},
   "source": [
    "### 3 - Quaternion-valued layers"
   ]
  },
  {
   "cell_type": "markdown",
   "metadata": {},
   "source": [
    "We also provide a number of quaternion-valued layers to implement quaternion neural networks:"
   ]
  },
  {
   "cell_type": "code",
   "execution_count": 33,
   "metadata": {},
   "outputs": [],
   "source": [
    "from torch import nn\n",
    "from htorch.layers import QLinear"
   ]
  },
  {
   "cell_type": "code",
   "execution_count": 34,
   "metadata": {},
   "outputs": [],
   "source": [
    "# Simple model with two quaternion-valued dense layers, and a split ReLU (ReLU applied on each component separately)\n",
    "model = nn.Sequential(\n",
    "    QLinear(4, 20, bias=True),\n",
    "    nn.ReLU(),\n",
    "    QLinear(20, 1)\n",
    ")"
   ]
  },
  {
   "cell_type": "code",
   "execution_count": 35,
   "metadata": {},
   "outputs": [
    {
     "name": "stdout",
     "output_type": "stream",
     "text": [
      "real part: tensor([[-0.4290],\n",
      "        [-0.2291]], grad_fn=<SliceBackward>)\n",
      "imaginary part (i): tensor([[-0.1713],\n",
      "        [-0.2433]], grad_fn=<SliceBackward>)\n",
      "imaginary part (j): tensor([[-0.2839],\n",
      "        [-0.2001]], grad_fn=<SliceBackward>)\n",
      "imaginary part (k): tensor([[-0.0769],\n",
      "        [ 0.0332]], grad_fn=<SliceBackward>)\n"
     ]
    }
   ],
   "source": [
    "x = quaternion.QuaternionTensor(torch.rand(2, 4, 4))\n",
    "print(model(x))"
   ]
  },
  {
   "cell_type": "markdown",
   "metadata": {},
   "source": [
    "We also provide layers to easily integrate quaternion-valued and real-valued blocks:"
   ]
  },
  {
   "cell_type": "code",
   "execution_count": 36,
   "metadata": {},
   "outputs": [],
   "source": [
    "from htorch.layers import QuaternionToReal\n",
    "from torch.nn import Softmax"
   ]
  },
  {
   "cell_type": "code",
   "execution_count": 39,
   "metadata": {},
   "outputs": [],
   "source": [
    "model = nn.Sequential(\n",
    "    QLinear(4, 10),\n",
    "    QuaternionToReal(10), # Take the absolute value of each output\n",
    "    Softmax(1)\n",
    ")"
   ]
  },
  {
   "cell_type": "code",
   "execution_count": 40,
   "metadata": {},
   "outputs": [
    {
     "data": {
      "text/plain": [
       "torch.Size([2, 10])"
      ]
     },
     "execution_count": 40,
     "metadata": {},
     "output_type": "execute_result"
    }
   ],
   "source": [
    "model(x).shape"
   ]
  },
  {
   "cell_type": "markdown",
   "metadata": {},
   "source": [
    "See [notebooks/training.ipynb] for an example of a full training."
   ]
  }
 ],
 "metadata": {
  "kernelspec": {
   "display_name": "Python 3 (ipykernel)",
   "language": "python",
   "name": "python3"
  },
  "language_info": {
   "codemirror_mode": {
    "name": "ipython",
    "version": 3
   },
   "file_extension": ".py",
   "mimetype": "text/x-python",
   "name": "python",
   "nbconvert_exporter": "python",
   "pygments_lexer": "ipython3",
   "version": "3.9.7"
  }
 },
 "nbformat": 4,
 "nbformat_minor": 2
}
